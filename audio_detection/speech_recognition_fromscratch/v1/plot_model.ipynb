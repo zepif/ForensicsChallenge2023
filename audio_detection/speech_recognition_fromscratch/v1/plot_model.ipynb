{
 "cells": [
  {
   "cell_type": "code",
   "execution_count": 2,
   "metadata": {},
   "outputs": [
    {
     "name": "stdout",
     "output_type": "stream",
     "text": [
      "Requirement already satisfied: torchviz in c:\\users\\acer\\appdata\\local\\programs\\python\\python311\\lib\\site-packages (0.0.2)\n",
      "Requirement already satisfied: torch in c:\\users\\acer\\appdata\\local\\programs\\python\\python311\\lib\\site-packages (from torchviz) (2.0.1)\n",
      "Requirement already satisfied: graphviz in c:\\users\\acer\\appdata\\local\\programs\\python\\python311\\lib\\site-packages (from torchviz) (0.20.1)\n",
      "Requirement already satisfied: filelock in c:\\users\\acer\\appdata\\local\\programs\\python\\python311\\lib\\site-packages (from torch->torchviz) (3.12.4)\n",
      "Requirement already satisfied: typing-extensions in c:\\users\\acer\\appdata\\local\\programs\\python\\python311\\lib\\site-packages (from torch->torchviz) (4.7.1)\n",
      "Requirement already satisfied: sympy in c:\\users\\acer\\appdata\\local\\programs\\python\\python311\\lib\\site-packages (from torch->torchviz) (1.12)\n",
      "Requirement already satisfied: networkx in c:\\users\\acer\\appdata\\local\\programs\\python\\python311\\lib\\site-packages (from torch->torchviz) (3.1)\n",
      "Requirement already satisfied: jinja2 in c:\\users\\acer\\appdata\\local\\programs\\python\\python311\\lib\\site-packages (from torch->torchviz) (3.1.2)\n",
      "Requirement already satisfied: MarkupSafe>=2.0 in c:\\users\\acer\\appdata\\local\\programs\\python\\python311\\lib\\site-packages (from jinja2->torch->torchviz) (2.1.3)\n",
      "Requirement already satisfied: mpmath>=0.19 in c:\\users\\acer\\appdata\\local\\programs\\python\\python311\\lib\\site-packages (from sympy->torch->torchviz) (1.3.0)\n",
      "Note: you may need to restart the kernel to use updated packages.\n"
     ]
    }
   ],
   "source": [
    "pip install torchviz"
   ]
  },
  {
   "cell_type": "code",
   "execution_count": 3,
   "metadata": {},
   "outputs": [],
   "source": [
    "import torch\n",
    "import torch.nn as nn\n",
    "from torchviz import make_dot\n",
    "CHARSET = \" abcdefghijklmnopqrstuvwxyz,.\"\n",
    "\n",
    "class YourModel(nn.Module):\n",
    "    def __init__(self, H):\n",
    "        super(YourModel, self).__init__()\n",
    "        self.prepare = nn.Sequential(\n",
    "            nn.Linear(80, H),\n",
    "            nn.BatchNorm1d(H),\n",
    "            nn.ReLU(),\n",
    "            nn.Linear(H, H),\n",
    "            nn.BatchNorm1d(H),\n",
    "            nn.ReLU()\n",
    "        )\n",
    "        self.encoder = nn.GRU(H, H, batch_first=False)\n",
    "        self.decode = nn.Sequential(\n",
    "            nn.Linear(H, H//2),\n",
    "            nn.BatchNorm1d(H//2),\n",
    "            nn.ReLU(),\n",
    "            nn.Linear(H//2, len(CHARSET))\n",
    "        )\n",
    "\n",
    "    def forward(self, x):\n",
    "        x = self.prepare(x)\n",
    "        x, _ = self.encoder(x)\n",
    "        x = x[-1]\n",
    "        x = self.decode(x)\n",
    "        return x"
   ]
  },
  {
   "cell_type": "code",
   "execution_count": 8,
   "metadata": {},
   "outputs": [
    {
     "data": {
      "text/plain": [
       "'model.png'"
      ]
     },
     "execution_count": 8,
     "metadata": {},
     "output_type": "execute_result"
    }
   ],
   "source": [
    "H = 256\n",
    "model = YourModel(H)\n",
    "dummy_input = torch.randn(1, 256, 80)\n",
    "output = model(dummy_input)\n",
    "\n",
    "dot = make_dot(output, params=dict(model.named_parameters()))\n",
    "dot.format = 'png'\n",
    "dot.render(\"model\", format=\"png\")"
   ]
  },
  {
   "cell_type": "code",
   "execution_count": 9,
   "metadata": {},
   "outputs": [
    {
     "data": {
      "text/plain": [
       "'encoder.png'"
      ]
     },
     "execution_count": 9,
     "metadata": {},
     "output_type": "execute_result"
    }
   ],
   "source": [
    "encoder = YourModel(H).encoder\n",
    "dummy_input = torch.randn(1, 1, H)\n",
    "encoder_output, _ = encoder(dummy_input)\n",
    "\n",
    "dot = make_dot(encoder_output, params=dict(encoder.named_parameters()))\n",
    "dot.format = 'png'\n",
    "dot.render(\"encoder\", format=\"png\")"
   ]
  },
  {
   "cell_type": "code",
   "execution_count": 10,
   "metadata": {},
   "outputs": [
    {
     "data": {
      "text/plain": [
       "'decoder.png'"
      ]
     },
     "execution_count": 10,
     "metadata": {},
     "output_type": "execute_result"
    }
   ],
   "source": [
    "H = 256\n",
    "decoder = YourModel(H).decode\n",
    "\n",
    "dummy_input = torch.randn(1, H//2, 256)\n",
    "\n",
    "decoder_output = decoder(dummy_input)\n",
    "\n",
    "dot = make_dot(decoder_output, params=dict(decoder.named_parameters()))\n",
    "dot.format = 'png'\n",
    "dot.render(\"decoder\", format=\"png\")"
   ]
  }
 ],
 "metadata": {
  "kernelspec": {
   "display_name": "Python 3",
   "language": "python",
   "name": "python3"
  },
  "language_info": {
   "codemirror_mode": {
    "name": "ipython",
    "version": 3
   },
   "file_extension": ".py",
   "mimetype": "text/x-python",
   "name": "python",
   "nbconvert_exporter": "python",
   "pygments_lexer": "ipython3",
   "version": "3.11.5"
  },
  "orig_nbformat": 4
 },
 "nbformat": 4,
 "nbformat_minor": 2
}

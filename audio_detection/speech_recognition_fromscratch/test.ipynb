{
 "cells": [
  {
   "cell_type": "code",
   "execution_count": 2,
   "metadata": {},
   "outputs": [
    {
     "name": "stdout",
     "output_type": "stream",
     "text": [
      "81309 frames\n",
      "81309\n",
      "[-14 -49   0  27 -17 -49  -1  37 -36 -36]\n"
     ]
    }
   ],
   "source": [
    "import wave\n",
    "import numpy as np\n",
    "\n",
    "wavefile = wave.open(\"data/wavs/LJ001-0123.wav\")\n",
    "length = wavefile.getnframes()\n",
    "print(f\"{length} frames\")\n",
    "wavedata = np.frombuffer(wavefile.readframes(length), np.int16)\n",
    "print(len(wavedata))\n",
    "print(wavedata[0:10])"
   ]
  },
  {
   "cell_type": "code",
   "execution_count": 4,
   "metadata": {},
   "outputs": [
    {
     "name": "stdout",
     "output_type": "stream",
     "text": [
      "%pylab is deprecated, use %matplotlib inline and import the required libraries.\n",
      "Populating the interactive namespace from numpy and matplotlib\n"
     ]
    }
   ],
   "source": [
    "%pylab inline\n",
    "%load_ext autoreload\n",
    "%autoreload 2"
   ]
  },
  {
   "cell_type": "code",
   "execution_count": 6,
   "metadata": {},
   "outputs": [
    {
     "ename": "ImportError",
     "evalue": "cannot import name 'train' from 'rec' (c:\\fun\\ForensicsChallenge2023_team6\\audio_detection\\speech_recognition_fromscratch\\rec.py)",
     "output_type": "error",
     "traceback": [
      "\u001b[1;31m---------------------------------------------------------------------------\u001b[0m",
      "\u001b[1;31mImportError\u001b[0m                               Traceback (most recent call last)",
      "\u001b[1;32mc:\\fun\\ForensicsChallenge2023_team6\\audio_detection\\speech_recognition_fromscratch\\test.ipynb Cell 3\u001b[0m line \u001b[0;36m1\n\u001b[1;32m----> <a href='vscode-notebook-cell:/c%3A/fun/ForensicsChallenge2023_team6/audio_detection/speech_recognition_fromscratch/test.ipynb#W2sZmlsZQ%3D%3D?line=0'>1</a>\u001b[0m \u001b[39mfrom\u001b[39;00m \u001b[39mrec\u001b[39;00m \u001b[39mimport\u001b[39;00m train\n\u001b[0;32m      <a href='vscode-notebook-cell:/c%3A/fun/ForensicsChallenge2023_team6/audio_detection/speech_recognition_fromscratch/test.ipynb#W2sZmlsZQ%3D%3D?line=1'>2</a>\u001b[0m train()\n",
      "\u001b[1;31mImportError\u001b[0m: cannot import name 'train' from 'rec' (c:\\fun\\ForensicsChallenge2023_team6\\audio_detection\\speech_recognition_fromscratch\\rec.py)"
     ]
    }
   ],
   "source": [
    "from rec import train\n",
    "train()"
   ]
  },
  {
   "cell_type": "code",
   "execution_count": null,
   "metadata": {},
   "outputs": [],
   "source": []
  }
 ],
 "metadata": {
  "kernelspec": {
   "display_name": "Python 3",
   "language": "python",
   "name": "python3"
  },
  "language_info": {
   "codemirror_mode": {
    "name": "ipython",
    "version": 3
   },
   "file_extension": ".py",
   "mimetype": "text/x-python",
   "name": "python",
   "nbconvert_exporter": "python",
   "pygments_lexer": "ipython3",
   "version": "3.11.5"
  },
  "orig_nbformat": 4
 },
 "nbformat": 4,
 "nbformat_minor": 2
}
